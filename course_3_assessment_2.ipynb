{
  "nbformat": 4,
  "nbformat_minor": 0,
  "metadata": {
    "colab": {
      "name": "course_3_assessment_2.ipynb",
      "provenance": [],
      "authorship_tag": "ABX9TyO88W6Su/2usy4aodrfSp6E",
      "include_colab_link": true
    },
    "kernelspec": {
      "name": "python3",
      "display_name": "Python 3"
    }
  },
  "cells": [
    {
      "cell_type": "markdown",
      "metadata": {
        "id": "view-in-github",
        "colab_type": "text"
      },
      "source": [
        "<a href=\"https://colab.research.google.com/github/shubhamsingh096/Data-Collection-and-Processing-with-Python/blob/master/course_3_assessment_2.ipynb\" target=\"_parent\"><img src=\"https://colab.research.google.com/assets/colab-badge.svg\" alt=\"Open In Colab\"/></a>"
      ]
    },
    {
      "cell_type": "code",
      "metadata": {
        "id": "XZ8vw5wExUod",
        "colab_type": "code",
        "colab": {}
      },
      "source": [
        "##1) Write code to assign to the variable map_testing all the elements in lst_check while adding the string “Fruit: ” \n",
        "#to the beginning of each element using mapping.\n",
        "\n",
        "lst_check = ['plums', 'watermelon', 'kiwi', 'strawberries', 'blueberries', 'peaches', 'apples', 'mangos', 'papaya']\n",
        "map_testing = map(lambda st: (\"Fruit: \" + st), lst_check)\n",
        "print(map_testing)\n",
        "\n",
        "\n",
        "##2) Below, we have provided a list of strings called countries. Use filter to produce a list called b_countries \n",
        "#that only contains the strings from countries that begin with B.\n",
        "\n",
        "countries = ['Canada', 'Mexico', 'Brazil', 'Chile', 'Denmark', 'Botswana', 'Spain', 'Britain', 'Portugal',\n",
        "             'Russia', 'Thailand', 'Bangladesh', 'Nigeria', 'Argentina', 'Belarus', 'Laos', 'Australia', 'Panama', \n",
        "             'Egypt', 'Morocco', 'Switzerland', 'Belgium']\n",
        "b_countries = list(filter(lambda country_name: country_name[0]== \"B\", countries))\n",
        "print(b_countries)\n",
        "\n",
        "\n",
        "##3) Below, we have provided a list of tuples that contain the names of Game of Thrones \n",
        "#characters. Using list comprehension, create a list of strings called first_names that contains only \n",
        "#the first names of everyone in the original list.\n",
        "\n",
        "people = [('Snow', 'Jon'), ('Lannister', 'Cersei'), ('Stark', 'Arya'), ('Stark', 'Robb'), ('Lannister', 'Jamie'), \n",
        "          ('Targaryen', 'Daenerys'), ('Stark', 'Sansa'), ('Tyrell', 'Margaery'), ('Stark', 'Eddard'), ('Lannister', 'Tyrion'), \n",
        "          ('Baratheon', 'Joffrey'), ('Bolton', 'Ramsey'), ('Baelish', 'Peter')]\n",
        "first_names = [x2 for (x1,x2) in people]\n",
        "print(first_names)\n",
        "\n",
        "\n",
        "##4) Use list comprehension to create a list called lst2 that doubles each element in the list, lst\n",
        "\n",
        "lst = [[\"hi\", \"bye\"], \"hello\", \"goodbye\", [9, 2], 4]\n",
        "lst2 = [2*val for val in lst]\n",
        "\n",
        "\n",
        "##5) Below, we have provided a list of tuples that contain students’ names and their final grades in PYTHON 101. \n",
        "#Using list comprehension, create a new list passed that contains the names of students who passed the class (had a final grade of 70 or greater).\n",
        "\n",
        "students = [('Tommy', 95), ('Linda', 63), ('Carl', 70), ('Bob', 100), ('Raymond', 50), ('Sue', 75)]\n",
        "passed = [x1 for (x1,x2) in students if x2>=70]\n",
        "print(passed)\n",
        "\n",
        "\n",
        "##6) Write code using zip and filter so that these lists (l1 and l2) are combined into one big list and assigned \n",
        "#to the variable opposites if they are both longer than 3 characters each.\n",
        "\n",
        "l1 = ['left', 'up', 'front']\n",
        "l2 = ['right', 'down', 'back']\n",
        "\n",
        "l3 = list(zip(l1,l2))\n",
        "opposites = list(filter(lambda st:(len(st[0])>3 and len(st[1])>3),l3))\n",
        "\n",
        "\n",
        "##7) Below, we have provided a species list and a population list. Use zip to combine these lists into \n",
        "#one list of tuples called pop_info. From this list, create a new list called endangered that contains the names of species whose populations are below 2500.\n",
        "\n",
        "species = ['golden retriever', 'white tailed deer', 'black rhino', 'brown squirrel', 'field mouse', 'orangutan', 'sumatran elephant',\n",
        "           'rainbow trout', 'black bear', 'blue whale', 'water moccasin', 'giant panda', 'green turtle', 'blue jay', 'japanese beetle']\n",
        "population = [10000, 90000, 1000, 2000000, 500000, 500, 1200, 8000, 12000, 2300, 7500, 100, 1800, 9500, 125000]\n",
        "\n",
        "pop_info = list(zip(species, population))\n",
        "endangered = [x1 for (x1,x2) in pop_info if x2<2500]\n",
        "\n",
        "\n",
        "\n"
      ],
      "execution_count": null,
      "outputs": []
    }
  ]
}