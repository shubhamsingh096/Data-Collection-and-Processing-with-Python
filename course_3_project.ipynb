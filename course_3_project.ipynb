{
  "nbformat": 4,
  "nbformat_minor": 0,
  "metadata": {
    "colab": {
      "name": "course_3_project.ipynb",
      "provenance": [],
      "authorship_tag": "ABX9TyOzRwRAK5vizvBFK3ZsGTSA",
      "include_colab_link": true
    },
    "kernelspec": {
      "name": "python3",
      "display_name": "Python 3"
    }
  },
  "cells": [
    {
      "cell_type": "markdown",
      "metadata": {
        "id": "view-in-github",
        "colab_type": "text"
      },
      "source": [
        "<a href=\"https://colab.research.google.com/github/shubhamsingh096/Data-Collection-and-Processing-with-Python/blob/master/course_3_project.ipynb\" target=\"_parent\"><img src=\"https://colab.research.google.com/assets/colab-badge.svg\" alt=\"Open In Colab\"/></a>"
      ]
    },
    {
      "cell_type": "code",
      "metadata": {
        "id": "m8zKpz-og5dl",
        "colab_type": "code",
        "colab": {}
      },
      "source": [
        "import json\n",
        "import requests_with_caching                                         ##you can also use \"import requests\" here \n",
        "\n",
        "def get_movies_from_tastedive(movie_name):\n",
        "    baseurl = \"https://tastedive.com/api/similar\"\n",
        "    param_d = {}\n",
        "    param_d[\"q\"] = movie_name\n",
        "    param_d[\"type\"] = \"movies\"\n",
        "    param_d[\"limit\"] = \"5\"\n",
        "    resp = requests_with_caching.get(baseurl, params= param_d)              ## you can also request data using \"requests.get((baseurl, params= param_d))\"\n",
        "    info_movie = resp.json()\n",
        "    return info_movie\n",
        "\n",
        "def extract_movie_titles(movie_title):\n",
        "    name_lst = [ x[\"Name\"] for x in movie_title['Similar']['Results'] ]\n",
        "    return name_lst\n",
        "\n",
        "def get_related_titles(title_lst):\n",
        "    rel_movie = []\n",
        "    for x in title_lst:\n",
        "        rel_movie.extend( extract_movie_titles(get_movies_from_tastedive(x)))\n",
        "    rel_movie = list(dict.fromkeys(rel_movie))\n",
        "    return rel_movie\n",
        "\n",
        "def get_movie_data(movie_name):\n",
        "    baseurl = \"http://www.omdbapi.com/\"\n",
        "    param_d = {}\n",
        "    param_d[\"t\"] = movie_name\n",
        "    param_d[\"r\"] = \"json\"\n",
        "    resp = requests_with_caching.get(baseurl, params= param_d)\n",
        "    info_movie = resp.json()\n",
        "    return info_movie\n",
        "\n",
        "def get_movie_rating(info):\n",
        "    rating_value = 0\n",
        "    for x in info['Ratings']:\n",
        "        if x['Source'] == 'Rotten Tomatoes':\n",
        "            rating_value = int(x['Value'][:2])\n",
        "    return rating_value\n",
        "\n",
        "def get_sorted_recommendations(movie_list):\n",
        "    rel_movie = get_related_titles(movie_list)\n",
        "    new_dict = {}\n",
        "    for i in rel_movie:\n",
        "        new_dict[i] = get_movie_rating(get_movie_data(i))\n",
        "    return [i[0] for i in sorted(new_dict.items(), key=lambda item: (item[1], item[0]), reverse=True)]\n"
      ],
      "execution_count": null,
      "outputs": []
    }
  ]
}